{
 "cells": [
  {
   "cell_type": "code",
   "execution_count": 50,
   "id": "a8e8e4c8",
   "metadata": {},
   "outputs": [],
   "source": [
    "import pandas as pd\n",
    "import numpy as np\n",
    "from sklearn.model_selection import train_test_split\n",
    "from sklearn.preprocessing import StandardScaler"
   ]
  },
  {
   "cell_type": "code",
   "execution_count": 51,
   "id": "3b10b7ba",
   "metadata": {},
   "outputs": [],
   "source": [
    "class DataLoader:\n",
    "    def __init__(self):\n",
    "        pass\n",
    "    def load_data(self, file_name):\n",
    "        self.data = pd.read_csv(file_name)\n",
    "        self.X = self.data.iloc[:, :-1].values\n",
    "        self.y = self.data.iloc[:, -1].values\n",
    "        return self\n",
    "    def prepare_data(self, apply_scaling = False):\n",
    "        self.X_train, self.X_test, self.y_train, self.y_test = train_test_split(self.X, self.y, test_size=0.2, random_state = 0)\n",
    "        if(apply_scaling):\n",
    "            self.sc_X = StandardScaler()\n",
    "            self.sc_y = StandardScaler()\n",
    "            self.X_train = self.sc_X.fit_transform(self.X_train)\n",
    "            self.X_test = self.sc_X.transform(self.X_test)\n",
    "            y_temp = self.y_train.reshape(len(self.y_train), 1)\n",
    "            self.y_train = self.sc_y.fit_transform(y_temp).reshape(1, len(self.y_train))[0]\n",
    "        return self\n",
    "            "
   ]
  },
  {
   "cell_type": "code",
   "execution_count": 52,
   "id": "ccff7990",
   "metadata": {},
   "outputs": [],
   "source": [
    "from sklearn.linear_model import LinearRegression\n",
    "from sklearn.preprocessing import PolynomialFeatures\n",
    "from sklearn.svm import SVR\n",
    "from sklearn.tree import DecisionTreeRegressor\n",
    "from sklearn.ensemble import RandomForestRegressor\n",
    "from sklearn.metrics import r2_score\n",
    "class ModelFitting:\n",
    "    def __init__(self):\n",
    "        np.set_printoptions(precision=2)\n",
    "        \n",
    "    def train_with_multi_linear_regression(self, data_loader):\n",
    "        self.multi_regress = LinearRegression()\n",
    "        self.multi_regress.fit(data_loader.X_train, data_loader.y_train)\n",
    "        y_pred = self.multi_regress.predict(data_loader.X_test)\n",
    "        print('Multi Regression: predict/test')\n",
    "        print(np.concatenate((y_pred.reshape(len(y_pred), 1), data_loader.y_test.reshape(len(y_pred), 1)), 1))\n",
    "        self.multi_regress_score = r2_score(data_loader.y_test, y_pred)\n",
    "        return self.multi_regress_score\n",
    "    def train_with_polynomial_regression(self, data_loader):\n",
    "        poly_feat = PolynomialFeatures(degree=4)\n",
    "        X_poly = poly_feat.fit_transform(data_loader.X_train)\n",
    "        self.poly_regress = LinearRegression()\n",
    "        self.poly_regress.fit(X_poly, data_loader.y_train)\n",
    "        y_pred = self.poly_regress.predict(poly_feat.transform(data_loader.X_test))\n",
    "        print('Polynomial Regression: predict/test')\n",
    "        print(np.concatenate((y_pred.reshape(len(y_pred), 1), data_loader.y_test.reshape(len(y_pred), 1)), 1))\n",
    "        self.poly_regress_score = r2_score(data_loader.y_test, y_pred)\n",
    "        return self.poly_regress_score\n",
    "    def train_with_support_vector_regression(self, data_loader):\n",
    "        self.svr = SVR(kernel='rbf')\n",
    "        self.svr.fit(data_loader.X_train, data_loader.y_train)\n",
    "        y_pred = data_loader.sc_y.inverse_transform(self.svr.predict(data_loader.X_test))\n",
    "        print('SVR: predict/test')\n",
    "        print(np.concatenate((y_pred.reshape(len(y_pred), 1), data_loader.y_test.reshape(len(y_pred), 1)), 1))\n",
    "        self.svr_score = r2_score(data_loader.y_test, y_pred)\n",
    "        return self.svr_score\n",
    "    def train_with_decision_tree(self, data_loader):\n",
    "        self.decision_tree_regress = DecisionTreeRegressor()\n",
    "        self.decision_tree_regress.fit(data_loader.X_train, data_loader.y_train)\n",
    "        y_pred = self.decision_tree_regress.predict(data_loader.X_test)\n",
    "        print('Decision Tree Regression: predict/test')\n",
    "        print(np.concatenate((y_pred.reshape(len(y_pred), 1), data_loader.y_test.reshape(len(y_pred), 1)), 1))\n",
    "        self.decision_tree_score = r2_score(data_loader.y_test, y_pred)\n",
    "        return self.decision_tree_score\n",
    "    def train_wih_random_forest(self, data_loader, num_of_trees = 100):\n",
    "        self.random_forest_regress = RandomForestRegressor(n_estimators=num_of_trees)\n",
    "        self.random_forest_regress.fit(data_loader.X_train, data_loader.y_train)\n",
    "        y_pred = self.random_forest_regress.predict(data_loader.X_test)\n",
    "        print('Random Forest Regression: predict/test')\n",
    "        print(np.concatenate((y_pred.reshape(len(y_pred), 1), data_loader.y_test.reshape(len(y_pred), 1)), 1))\n",
    "        self.random_forest_score = r2_score(data_loader.y_test, y_pred)\n",
    "        return self.random_forest_score"
   ]
  },
  {
   "cell_type": "code",
   "execution_count": 53,
   "id": "d3f1c009",
   "metadata": {},
   "outputs": [
    {
     "data": {
      "text/plain": [
       "<__main__.DataLoader at 0x1e861422d90>"
      ]
     },
     "execution_count": 53,
     "metadata": {},
     "output_type": "execute_result"
    }
   ],
   "source": [
    "data_loader = DataLoader()\n",
    "data_loader.load_data('Data.csv').prepare_data()\n",
    "scaled_data_loader = DataLoader()\n",
    "scaled_data_loader.load_data('Data.csv').prepare_data(apply_scaling=True)"
   ]
  },
  {
   "cell_type": "code",
   "execution_count": 54,
   "id": "75b56cd1",
   "metadata": {},
   "outputs": [
    {
     "name": "stdout",
     "output_type": "stream",
     "text": [
      "Multi Regression: predict/test\n",
      "[[431.43 431.23]\n",
      " [458.56 460.01]\n",
      " [462.75 461.14]\n",
      " ...\n",
      " [469.52 473.26]\n",
      " [442.42 438.  ]\n",
      " [461.88 463.28]]\n",
      "Polynomial Regression: predict/test\n",
      "[[433.94 431.23]\n",
      " [457.9  460.01]\n",
      " [460.52 461.14]\n",
      " ...\n",
      " [469.53 473.26]\n",
      " [438.27 438.  ]\n",
      " [461.67 463.28]]\n",
      "SVR: predict/test\n",
      "[[434.05 431.23]\n",
      " [457.94 460.01]\n",
      " [461.03 461.14]\n",
      " ...\n",
      " [470.6  473.26]\n",
      " [439.42 438.  ]\n",
      " [460.92 463.28]]\n",
      "Decision Tree Regression: predict/test\n",
      "[[429.06 431.23]\n",
      " [462.81 460.01]\n",
      " [460.19 461.14]\n",
      " ...\n",
      " [470.31 473.26]\n",
      " [437.76 438.  ]\n",
      " [462.55 463.28]]\n",
      "Random Forest Regression: predict/test\n",
      "[[433.39 431.23]\n",
      " [457.95 460.01]\n",
      " [463.53 461.14]\n",
      " ...\n",
      " [469.44 473.26]\n",
      " [438.99 438.  ]\n",
      " [461.59 463.28]]\n",
      "0.9325315554761303 0.9458193300146379 0.948078404998626 0.9241243858560355 0.9652231108206529\n"
     ]
    }
   ],
   "source": [
    "model_fitting = ModelFitting()\n",
    "# Using multi linear regression\n",
    "multi_regress_score = model_fitting.train_with_multi_linear_regression(data_loader=data_loader)\n",
    "# Using polynomial linear regression\n",
    "poly_regress_score = model_fitting.train_with_polynomial_regression(data_loader=data_loader)\n",
    "# Using Support Vector Regressor\n",
    "svr_score = model_fitting.train_with_support_vector_regression(data_loader=scaled_data_loader)\n",
    "# Using Decision Tree Regressor\n",
    "decision_tree_score = model_fitting.train_with_decision_tree(data_loader=data_loader)\n",
    "#Using Random Forest Regressor\n",
    "random_forest_score = model_fitting.train_wih_random_forest(data_loader=data_loader)\n",
    "print(multi_regress_score, poly_regress_score, svr_score, decision_tree_score, random_forest_score)"
   ]
  },
  {
   "cell_type": "code",
   "execution_count": 57,
   "id": "8daa65e1",
   "metadata": {},
   "outputs": [
    {
     "data": {
      "text/plain": [
       "array([446.71])"
      ]
     },
     "execution_count": 57,
     "metadata": {},
     "output_type": "execute_result"
    }
   ],
   "source": [
    "model_fitting.random_forest_regress.predict([data_loader.X_test[3]])"
   ]
  },
  {
   "cell_type": "code",
   "execution_count": null,
   "id": "57fca65e",
   "metadata": {},
   "outputs": [],
   "source": []
  }
 ],
 "metadata": {
  "kernelspec": {
   "display_name": "Python 3",
   "language": "python",
   "name": "python3"
  },
  "language_info": {
   "codemirror_mode": {
    "name": "ipython",
    "version": 3
   },
   "file_extension": ".py",
   "mimetype": "text/x-python",
   "name": "python",
   "nbconvert_exporter": "python",
   "pygments_lexer": "ipython3",
   "version": "3.8.10"
  }
 },
 "nbformat": 4,
 "nbformat_minor": 5
}
