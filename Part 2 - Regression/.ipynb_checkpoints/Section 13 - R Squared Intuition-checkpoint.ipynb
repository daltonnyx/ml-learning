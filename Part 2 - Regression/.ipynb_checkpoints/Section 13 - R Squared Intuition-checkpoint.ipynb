{
 "cells": [
  {
   "cell_type": "markdown",
   "id": "f3a0fa8c",
   "metadata": {},
   "source": [
    "$SS_{res} = \\sum(y_i - \\hat{y}_i)^2$  \n",
    "$SS_{tot} = \\sum(y_i - y_{avg})^2$  \n",
    "$R^2 = 1 - \\frac{SS_{res}}{SS_{tot}}$"
   ]
  },
  {
   "cell_type": "markdown",
   "id": "bc2902e5",
   "metadata": {},
   "source": [
    "$R^2$ - Goodness of fit (greater is better)  \n",
    "**Problem**:  \n",
    "> When adding more variables the $R^2$ will nerver decrease because $SS_{res}$ always decreases or equals previous $SS_{res}$ (slightly happens when coefficient = 0). We won't know if adding more independent variables help or not"
   ]
  },
  {
   "cell_type": "markdown",
   "id": "fb812a5b",
   "metadata": {},
   "source": [
    "$\\text{Adj R}^2 = 1 - (1 - R^2)\\frac{n - 1}{n - p - 1}$  \n",
    "p - number of regressors  \n",
    "n - sample size  \n",
    "> when add more variables p will be increased, if the variable not good for model, $\\text{Adj R}^2$ will decrease, If $R^2$ increase significantly enough, $\\text{Adj R}^2$ will increase"
   ]
  }
 ],
 "metadata": {
  "kernelspec": {
   "display_name": "Python 3",
   "language": "python",
   "name": "python3"
  },
  "language_info": {
   "codemirror_mode": {
    "name": "ipython",
    "version": 3
   },
   "file_extension": ".py",
   "mimetype": "text/x-python",
   "name": "python",
   "nbconvert_exporter": "python",
   "pygments_lexer": "ipython3",
   "version": "3.8.10"
  }
 },
 "nbformat": 4,
 "nbformat_minor": 5
}
