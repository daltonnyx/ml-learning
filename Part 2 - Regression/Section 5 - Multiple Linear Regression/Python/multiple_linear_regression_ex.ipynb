{
 "cells": [
  {
   "cell_type": "markdown",
   "metadata": {
    "colab_type": "text",
    "id": "CazISR8X_HUG"
   },
   "source": [
    "# Multiple Linear Regression"
   ]
  },
  {
   "cell_type": "markdown",
   "metadata": {},
   "source": [
    "> Formula: $y = b_0 + b_1 * x_1 + b_2 * x_2 + \\dots + b_n *x_n$\n",
    "$y$ is dependent variable (DV)  \n",
    "$x_1 \\dots x_n$ is independent variables (IVs)  \n",
    "$b_1 \\dots b_n$ is coefficient - How much affected that x does to y  \n",
    "$b_0$ is constant  "
   ]
  },
  {
   "cell_type": "markdown",
   "metadata": {},
   "source": [
    "### Assumptions of a Linear Regression:\n",
    "1. Linearity\n",
    "2. Homoscedasticity\n",
    "3. Multivariate normality\n",
    "4. Independence of errors\n",
    "5. Lack of multicollinearity"
   ]
  },
  {
   "cell_type": "markdown",
   "metadata": {},
   "source": [
    "### Dummy Variables apply for:\n",
    "- categorical data\n",
    "\n",
    "> Create new bit (boolean) variables representing categorical data  \n",
    "> Always omit one dummy variable"
   ]
  },
  {
   "cell_type": "markdown",
   "metadata": {},
   "source": [
    "### The meaning of P value\n",
    "- the P value is the probability of thing happening\n",
    "- statistical significance is the point where in human intuitive terms, you get uneasy about the $H_0$ being true"
   ]
  },
  {
   "cell_type": "markdown",
   "metadata": {},
   "source": [
    "## Building A Model\n",
    "\n",
    "5 methods of building models:\n",
    "- All-in\n",
    "- Backward Elimination\n",
    "- Forward Selection\n",
    "- Bidirectional Elimination\n",
    "- Score Comparison  \n",
    "\n",
    "_stepwise regression refer to 2, 3, 4_"
   ]
  },
  {
   "cell_type": "markdown",
   "metadata": {},
   "source": [
    "#### 1. All-in Cases: throw all variables in\n",
    "- Prior knowledge\n",
    "- you have to\n",
    "- preparing for Backward Elimination\n"
   ]
  },
  {
   "cell_type": "markdown",
   "metadata": {},
   "source": [
    "\n",
    "#### 2. Backward Elimination:\n",
    "1. Select a significance level to stay in the model (usually SL = 0.05)\n",
    "2. Fit full model with all possible predictors\n",
    "3. Consider the predictor with the _highest_ P-value. If _P > SL_, go to Step 4, otherwise FIN\n",
    "4. Remove the predictor out of the model\n",
    "5. Fit the model without the removed the predictor and goto step 3"
   ]
  },
  {
   "cell_type": "markdown",
   "metadata": {},
   "source": [
    "#### 3. Forward Selection\n",
    "1. Select a SL to enter (usually SL = 0.05)\n",
    "2. Fit all simple regression (1 IV) models $y$ ~ $x_n$, Select the one with the lowest P-value\n",
    "3. Keep this variable and fit all possible models with one extra predictor added to the one(s) you already have (IV += 1)\n",
    "4. Consider the predictor with the *_lowest_* P-value. If _P < SL_, go to Step 3, otherwise FIN"
   ]
  },
  {
   "cell_type": "markdown",
   "metadata": {},
   "source": [
    "#### 4. Bidirectional Elimination\n",
    "1. Select a SL level to enter and to stay in the model (SLENTER = 0.05, SLSTAY = 0.05)\n",
    "2. Perform the next step of Forward Elimination (add new variables with _P < SLENTER_)\n",
    "3. Perform ALL step of Backward Elimination (Remove all old variables with _P > SLSTAY_)\n",
    "4. If no new variables can enter and no old variables can exit => FIN"
   ]
  },
  {
   "cell_type": "markdown",
   "metadata": {},
   "source": [
    "#### 5. All Possible Models\n",
    "1. Select a criterion of goodness of fit (Akaike criterion, R-Square)\n",
    "2. Construct All Possible Regression Models: $2^n-1$ total combinations\n",
    "3. Select the one with the best criterion"
   ]
  },
  {
   "cell_type": "markdown",
   "metadata": {
    "colab_type": "text",
    "id": "pOyqYHTk_Q57"
   },
   "source": [
    "## Importing the libraries"
   ]
  },
  {
   "cell_type": "markdown",
   "metadata": {
    "colab_type": "text",
    "id": "vgC61-ah_WIz"
   },
   "source": [
    "## Importing the dataset"
   ]
  },
  {
   "cell_type": "markdown",
   "metadata": {
    "colab_type": "text",
    "id": "VadrvE7s_lS9"
   },
   "source": [
    "## Encoding categorical data"
   ]
  },
  {
   "cell_type": "markdown",
   "metadata": {
    "colab_type": "text",
    "id": "WemVnqgeA70k"
   },
   "source": [
    "## Splitting the dataset into the Training set and Test set"
   ]
  },
  {
   "cell_type": "markdown",
   "metadata": {
    "colab_type": "text",
    "id": "k-McZVsQBINc"
   },
   "source": [
    "## Training the Multiple Linear Regression model on the Training set"
   ]
  },
  {
   "cell_type": "markdown",
   "metadata": {
    "colab_type": "text",
    "id": "xNkXL1YQBiBT"
   },
   "source": [
    "## Predicting the Test set results"
   ]
  }
 ],
 "metadata": {
  "colab": {
   "authorship_tag": "ABX9TyPhYhte6t7H4wEK4xPpDWT7",
   "name": "Multiple Linear Regression",
   "provenance": [],
   "toc_visible": true
  },
  "kernelspec": {
   "display_name": "Python 3",
   "language": "python",
   "name": "python3"
  },
  "language_info": {
   "codemirror_mode": {
    "name": "ipython",
    "version": 3
   },
   "file_extension": ".py",
   "mimetype": "text/x-python",
   "name": "python",
   "nbconvert_exporter": "python",
   "pygments_lexer": "ipython3",
   "version": "3.8.10"
  }
 },
 "nbformat": 4,
 "nbformat_minor": 4
}
