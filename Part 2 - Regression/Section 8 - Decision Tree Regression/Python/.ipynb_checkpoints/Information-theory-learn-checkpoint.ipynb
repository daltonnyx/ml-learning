{
 "cells": [
  {
   "cell_type": "markdown",
   "id": "8badbdcb",
   "metadata": {},
   "source": [
    "The amount of information there is in a discrete event $x$ can be calculated using probability of the discrete event $x$ as follows:  \n",
    "$h(x) = -log_2(p(x))$"
   ]
  },
  {
   "cell_type": "code",
   "execution_count": 3,
   "id": "78f64c6b",
   "metadata": {},
   "outputs": [
    {
     "name": "stdout",
     "output_type": "stream",
     "text": [
      "p(x)=0.500, information: 1.000 bits\n"
     ]
    }
   ],
   "source": [
    "#calculate the information of coint flips\n",
    "from math import log2\n",
    "#probability of flipping a head event\n",
    "p = 0.5\n",
    "#calculate information for event\n",
    "h = -log2(p)\n",
    "print('p(x)=%.3f, information: %.3f bits' % (p, h))\n"
   ]
  },
  {
   "cell_type": "markdown",
   "id": "6d673fb3",
   "metadata": {},
   "source": [
    "if the coin was flipped n times, then the information for this sequence of flips wound n bits"
   ]
  },
  {
   "cell_type": "markdown",
   "id": "f95ecb18",
   "metadata": {},
   "source": [
    "Another example for the information in a single roll of a fair six-sided dice."
   ]
  },
  {
   "cell_type": "code",
   "execution_count": 4,
   "id": "2f1c342b",
   "metadata": {},
   "outputs": [
    {
     "name": "stdout",
     "output_type": "stream",
     "text": [
      "p(x)=0.167, information: 2.585 bits\n"
     ]
    }
   ],
   "source": [
    "#probability of the event\n",
    "p = 1.0 / 6.0\n",
    "#calculate information for event\n",
    "h = -log2(p)\n",
    "print('p(x)=%.3f, information: %.3f bits' % (p, h))"
   ]
  },
  {
   "cell_type": "markdown",
   "id": "342b4720",
   "metadata": {},
   "source": [
    "Other logarithms can be used instead of the base-2. For example, it is also common to use the natural logarithm that use base-e in calculating the information, in which case the units are referred to as \"*nats*\""
   ]
  },
  {
   "cell_type": "code",
   "execution_count": null,
   "id": "e24d0112",
   "metadata": {},
   "outputs": [],
   "source": []
  }
 ],
 "metadata": {
  "kernelspec": {
   "display_name": "Python 3",
   "language": "python",
   "name": "python3"
  },
  "language_info": {
   "codemirror_mode": {
    "name": "ipython",
    "version": 3
   },
   "file_extension": ".py",
   "mimetype": "text/x-python",
   "name": "python",
   "nbconvert_exporter": "python",
   "pygments_lexer": "ipython3",
   "version": "3.8.10"
  }
 },
 "nbformat": 4,
 "nbformat_minor": 5
}
