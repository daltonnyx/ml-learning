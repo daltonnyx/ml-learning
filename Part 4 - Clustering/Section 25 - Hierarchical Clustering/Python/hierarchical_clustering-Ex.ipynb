{
 "cells": [
  {
   "cell_type": "markdown",
   "metadata": {
    "colab_type": "text",
    "id": "JKkbeQi2Mzug"
   },
   "source": [
    "# Hierarchical Clustering"
   ]
  },
  {
   "cell_type": "markdown",
   "metadata": {},
   "source": [
    "### Agglometrative HC\n",
    "> Build from bottom up\n",
    "\n",
    "1. Make each data point a single-point cluster => forms N clusters\n",
    "2. Take the two closest data points and make them one cluster => forms N-1\n",
    "3. Take the the two closest clusters and make them one cluster => forms N-2\n",
    "4. repeat step 3 until there is only one cluster\n",
    "FIN"
   ]
  },
  {
   "cell_type": "markdown",
   "metadata": {},
   "source": [
    "#### Distance between Clusters\n",
    "Option 1. Closest Points  \n",
    "Option 2. Furthest Points  \n",
    "Option 3. Average Distance of all points  \n",
    "Option 4. Distance Between Centroids  \n"
   ]
  },
  {
   "cell_type": "markdown",
   "metadata": {},
   "source": [
    "### Dendograms Works\n",
    "- Dendorams stores dissimilarity (distance) between 2\n",
    "clusters in every step  \n",
    "- Add a threshold on distance (represent dissimilarity) \n",
    "to separate cluster  \n",
    "- the horizontal threadhold line can tell how many\n",
    "cluster we will have by find all cross with vertical line (represent dissimilarity)\n",
    "- **Recommend approach to find threadhold**: \n",
    "find the longest vertical line doesn't cross any extended horizontal line"
   ]
  },
  {
   "cell_type": "markdown",
   "metadata": {
    "colab_type": "text",
    "id": "TaQI437hM1Ho"
   },
   "source": [
    "## Importing the libraries"
   ]
  },
  {
   "cell_type": "markdown",
   "metadata": {
    "colab_type": "text",
    "id": "gFeTEtDxM7K4"
   },
   "source": [
    "## Importing the dataset"
   ]
  },
  {
   "cell_type": "markdown",
   "metadata": {
    "colab_type": "text",
    "id": "czYMlG7cNBsu"
   },
   "source": [
    "## Using the dendrogram to find the optimal number of clusters"
   ]
  },
  {
   "cell_type": "markdown",
   "metadata": {
    "colab_type": "text",
    "id": "KDbXbo9INLF6"
   },
   "source": [
    "## Training the Hierarchical Clustering model on the dataset"
   ]
  },
  {
   "cell_type": "markdown",
   "metadata": {
    "colab_type": "text",
    "id": "X-SYG7l9NVmU"
   },
   "source": [
    "## Visualising the clusters"
   ]
  }
 ],
 "metadata": {
  "colab": {
   "authorship_tag": "ABX9TyOE/Ghkv22sqrXHjexUJwPA",
   "collapsed_sections": [],
   "name": "hierarchical_clustering.ipynb",
   "provenance": [],
   "toc_visible": true
  },
  "hide_input": false,
  "kernelspec": {
   "display_name": "Python 3 (ipykernel)",
   "language": "python",
   "name": "python3"
  },
  "language_info": {
   "codemirror_mode": {
    "name": "ipython",
    "version": 3
   },
   "file_extension": ".py",
   "mimetype": "text/x-python",
   "name": "python",
   "nbconvert_exporter": "python",
   "pygments_lexer": "ipython3",
   "version": "3.9.7"
  }
 },
 "nbformat": 4,
 "nbformat_minor": 1
}
